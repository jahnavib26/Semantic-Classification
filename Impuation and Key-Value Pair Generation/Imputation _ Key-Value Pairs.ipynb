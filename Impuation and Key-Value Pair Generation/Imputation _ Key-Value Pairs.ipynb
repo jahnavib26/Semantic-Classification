{
  "cells": [
    {
      "cell_type": "code",
      "execution_count": null,
      "metadata": {
        "colab": {
          "base_uri": "https://localhost:8080/"
        },
        "collapsed": true,
        "id": "XWiRy7N8xjIo",
        "jupyter": {
          "outputs_hidden": true
        },
        "outputId": "c01369e1-ec9b-4980-c527-61bc494cf5a1",
        "tags": []
      },
      "outputs": [
        {
          "name": "stderr",
          "output_type": "stream",
          "text": [
            "C:\\Anaconda_env1\\lib\\site-packages\\fuzzywuzzy\\fuzz.py:11: UserWarning: Using slow pure-python SequenceMatcher. Install python-Levenshtein to remove this warning\n",
            "  warnings.warn('Using slow pure-python SequenceMatcher. Install python-Levenshtein to remove this warning')\n"
          ]
        }
      ],
      "source": [
        "import pandas as pd\n",
        "import json\n",
        "from selenium.webdriver.common.keys import Keys\n",
        "from selenium import webdriver\n",
        "import gender_guesser.detector as gd\n",
        "import pycountry\n",
        "from uszipcode import SearchEngine"
      ]
    },
    {
      "cell_type": "code",
      "execution_count": null,
      "metadata": {
        "colab": {
          "base_uri": "https://localhost:8080/"
        },
        "id": "rFoXM8lFxlXo",
        "outputId": "43658c4d-117b-4b07-8fb9-a840595a3913"
      },
      "outputs": [
        {
          "name": "stdout",
          "output_type": "stream",
          "text": [
            "['DATE', 'NAME_TITLE', 'FIRST_NAME', 'LAST_NAME', 'FULL_NAME', 'SSN', 'PHONE', 'EMAIL', 'GENDER', 'STREET_ADDRESS', 'ZIP_CODE', 'CITY', 'STATE', 'COUNTRY', ' PRICE ']\n"
          ]
        }
      ],
      "source": [
        "df = pd.read_csv(r'Final_dataset.xlsx')\n",
        "coulmns = list(df.columns)\n",
        "print(coulmns)\n",
        "data_list=[]"
      ]
    },
    {
      "cell_type": "code",
      "execution_count": null,
      "metadata": {
        "id": "Rj_Em-3yyk4O"
      },
      "outputs": [],
      "source": [
        "def get_gender(temp):\n",
        "    d = gd.Detector()\n",
        "    out = d.get_gender(u\"{}\".format(temp))\n",
        "    if out == \"male\":\n",
        "        return \"Male\"\n",
        "    elif out == \"female\":\n",
        "        return \"Female\"\n",
        "    else:\n",
        "        return \"Unknown\""
      ]
    },
    {
      "cell_type": "code",
      "execution_count": null,
      "metadata": {
        "id": "PJfGEVGa-kTC"
      },
      "outputs": [],
      "source": [
        "def generate_email(a):\n",
        "    b=a.replace(\" \",\"\")\n",
        "    out=b+\"@gmail.com\"\n",
        "    return out\n",
        "#this set of code adds invalid fake entry for email to the person detail which can be excluded for real dataset trials."
      ]
    },
    {
      "cell_type": "code",
      "execution_count": null,
      "metadata": {
        "id": "QuvgY4uxCVzq"
      },
      "outputs": [],
      "source": [
        "def get_country(state_name):\n",
        "    try:\n",
        "        state = pycountry.subdivisions.lookup(state_name)\n",
        "        country_code = state.country.alpha_2\n",
        "        out = pycountry.countries.get(alpha_2=country_code).name\n",
        "        return out\n",
        "    except LookupError:\n",
        "        return None"
      ]
    },
    {
      "cell_type": "code",
      "execution_count": null,
      "metadata": {
        "id": "x59fZUXVD2KA"
      },
      "outputs": [],
      "source": [
        "def get_state(zip_code):\n",
        "    try:\n",
        "        search = SearchEngine()\n",
        "        zipcode = search.by_zipcode(zip_code)\n",
        "        state_out = zipcode.state\n",
        "        return state_out\n",
        "    except Exception:\n",
        "        return None\n",
        ""
      ]
    },
    {
      "cell_type": "code",
      "execution_count": null,
      "metadata": {
        "id": "y5jrIZCSPv88"
      },
      "outputs": [],
      "source": [
        "def get_city(zip_code):\n",
        "    try:\n",
        "        search = SearchEngine()\n",
        "        zipcode = search.by_zipcode(zip_code)\n",
        "        city_out = zipcode.major_city\n",
        "        return city_out\n",
        "    except Exception:\n",
        "        return None"
      ]
    },
    {
      "cell_type": "code",
      "execution_count": null,
      "metadata": {
        "id": "1phzkiakQzZL"
      },
      "outputs": [],
      "source": [
        "def get_zipcode(city):\n",
        "    try:\n",
        "        search = SearchEngine()\n",
        "        zipcode = search.by_city(city)\n",
        "        if zipcode:\n",
        "            return zipcode[0].zipcode\n",
        "        else:\n",
        "            return None\n",
        "    except Exception:\n",
        "        return None"
      ]
    },
    {
      "cell_type": "code",
      "execution_count": null,
      "metadata": {
        "id": "CY-b5ofGxm7A"
      },
      "outputs": [],
      "source": [
        "#for i in range(0,len(df)+1):\n",
        "for i in range(0,100):\n",
        "    data_dict = {}\n",
        "    date = ''\n",
        "    first_name = ''\n",
        "    last_name = ''\n",
        "    full_name = ''\n",
        "    prefix = ''\n",
        "    ssn = ''\n",
        "    phone = ''\n",
        "    email = ''\n",
        "    gender = ''\n",
        "    streetaddress = ''\n",
        "    zipCode = ''\n",
        "    city = ''\n",
        "    state = ''\n",
        "    country = ''\n",
        "    price = ''\n",
        "\n",
        "    try:\n",
        "        date = df['DATE'][i]\n",
        "        if date.strip()!= '':\n",
        "            data_dict['date'] = date\n",
        "    except Exception:\n",
        "        pass\n",
        "    try:\n",
        "        prefix = df['NAME_TITLE'][i]\n",
        "        if prefix.strip()!= '':\n",
        "            data_dict['prefix'] = prefix\n",
        "    except Exception:\n",
        "        pass\n",
        "    try:\n",
        "        full_name = df['FULL_NAME'][i]\n",
        "        if full_name.strip()!='':\n",
        "            data_dict['fullName'] = full_name\n",
        "    except Exception:\n",
        "        pass\n",
        "    try:\n",
        "        first_name = df['FIRST_NAME'][i]\n",
        "        x1 = full_name.split()\n",
        "        if full_name.strip() != \" \":\n",
        "            first_name = x1[0]\n",
        "            data_dict['firstName'] = first_name\n",
        "    except Exception:\n",
        "        pass\n",
        "    try:\n",
        "        x1 = []\n",
        "        last_name = df['LAST_NAME'][i]\n",
        "        x1 = full_name.split()\n",
        "        if full_name.strip() != \" \":\n",
        "            last_name = x1[1]\n",
        "            data_dict['lastName'] = last_name\n",
        "    except Exception:\n",
        "        pass\n",
        "    try:\n",
        "        ssn = df['SSN'][i]\n",
        "        if ssn.strip()!='':\n",
        "            data_dict['ssn'] = ssn\n",
        "    except Exception:\n",
        "        pass\n",
        "    try:\n",
        "        phone = df['PHONE'][i]\n",
        "        if phone.strip()!='':\n",
        "            data_dict['contactNo.'] = phone\n",
        "    except Exception:\n",
        "        pass\n",
        "    try:\n",
        "        email = df['EMAIL'][i]\n",
        "        if email.strip()!='':\n",
        "            data_dict['email'] = email\n",
        "    except Exception:\n",
        "        try:\n",
        "            temp_email=generate_email(full_name)\n",
        "            data_dict['email'] = temp_email\n",
        "        except Exception:\n",
        "              pass\n",
        "    try:\n",
        "        gender = df['GENDER'][i]\n",
        "        if gender.strip()!='':\n",
        "            data_dict['gender'] = gender\n",
        "    except Exception:\n",
        "        temp= get_gender(first_name)\n",
        "        data_dict['gender'] = temp\n",
        "    try:\n",
        "        streetaddress = df['STREET_ADDRESS'][i]\n",
        "        if streetaddress.strip()!='':\n",
        "            data_dict['streetAddress'] = streetaddress\n",
        "    except Exception:\n",
        "        pass\n",
        "    try:\n",
        "        zipCode = df['ZIP_CODE'][i]\n",
        "        if len(str(zipCode))>3:\n",
        "            zip_temp= str(zipCode).rstrip('.0')\n",
        "            data_dict['zipCode'] = zip_temp\n",
        "        else:\n",
        "            try:\n",
        "                temp = df['CITY'][i]\n",
        "                zipCode=get_zipcode(temp)\n",
        "                if zipCode == None:\n",
        "                    pass\n",
        "                else:\n",
        "                    data_dict['zipCode'] = zipCode\n",
        "            except Exception:\n",
        "                pass\n",
        "    except Exception:\n",
        "        pass\n",
        "    try:\n",
        "        city = df['CITY'][i]\n",
        "        if city.strip()!='':\n",
        "            data_dict['city'] = city\n",
        "    except Exception:\n",
        "        try:\n",
        "            city=get_city(int(zipCode))\n",
        "            if city == None:\n",
        "                pass\n",
        "            else:\n",
        "                data_dict['city'] = city\n",
        "        except Exception:\n",
        "            pass\n",
        "    try:\n",
        "        state = df['STATE'][i]\n",
        "        if state.strip()!='':\n",
        "            data_dict['state'] = state\n",
        "    except Exception:\n",
        "        try:\n",
        "            state=get_state(int(zipCode))\n",
        "            if state == None:\n",
        "                pass\n",
        "            else:\n",
        "                data_dict['state'] = state\n",
        "        except Exception:\n",
        "            pass\n",
        "    try:\n",
        "        country = df['COUNTRY'][i]\n",
        "        if country.strip()!='':\n",
        "            data_dict['country'] = country\n",
        "    except Exception:\n",
        "        try:\n",
        "            country=get_country(state)\n",
        "            if country == None:\n",
        "                pass\n",
        "            else:\n",
        "                data_dict['country'] = country\n",
        "        except Exception:\n",
        "            pass\n",
        "\n",
        "    try:\n",
        "        price = df['PRICE'][i]\n",
        "        if price.strip()!='':\n",
        "            data_dict['price'] = price\n",
        "    except Exception:\n",
        "        pass\n",
        "    if full_name!=' ':\n",
        "        data_list.append(data_dict)\n",
        "\n",
        "with open(\"data_file_tree.json\", \"w\") as write_file:\n",
        "    json.dump(data_list, write_file)"
      ]
    }
  ],
  "metadata": {
    "colab": {
      "provenance": [],
      "toc_visible": true
    },
    "gpuClass": "standard",
    "kernelspec": {
      "display_name": "Python 3 (ipykernel)",
      "language": "python",
      "name": "python3"
    },
    "language_info": {
      "codemirror_mode": {
        "name": "ipython",
        "version": 3
      },
      "file_extension": ".py",
      "mimetype": "text/x-python",
      "name": "python",
      "nbconvert_exporter": "python",
      "pygments_lexer": "ipython3",
      "version": "3.9.12"
    }
  },
  "nbformat": 4,
  "nbformat_minor": 0
}